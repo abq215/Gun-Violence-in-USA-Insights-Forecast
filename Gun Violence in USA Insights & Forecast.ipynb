{
 "cells": [
  {
   "cell_type": "code",
   "execution_count": null,
   "id": "d5e69e61",
   "metadata": {},
   "outputs": [],
   "source": [
    "import warnings\n",
    "warnings.simplefilter('ignore')"
   ]
  },
  {
   "cell_type": "code",
   "execution_count": null,
   "id": "5becd98b",
   "metadata": {},
   "outputs": [],
   "source": [
    "!pip install pystan"
   ]
  },
  {
   "cell_type": "code",
   "execution_count": null,
   "id": "af972875",
   "metadata": {},
   "outputs": [],
   "source": [
    "import pandas as pd\n",
    "from prophet import Prophet\n",
    "import numpy as np\n",
    "import matplotlib.pyplot as plt\n",
    "import seaborn as sns\n",
    "import plotly.express as px\n",
    "import plotly.graph_objects as go"
   ]
  },
  {
   "cell_type": "code",
   "execution_count": null,
   "id": "d4d4eefe",
   "metadata": {},
   "outputs": [],
   "source": [
    "df['participant_age_group'].head()"
   ]
  },
  {
   "cell_type": "code",
   "execution_count": null,
   "id": "e56a6a71",
   "metadata": {},
   "outputs": [],
   "source": [
    "df.shape"
   ]
  },
  {
   "cell_type": "code",
   "execution_count": null,
   "id": "f429bbf1",
   "metadata": {},
   "outputs": [],
   "source": [
    "df.isnull().sum()"
   ]
  },
  {
   "cell_type": "code",
   "execution_count": null,
   "id": "fb15bed6",
   "metadata": {},
   "outputs": [],
   "source": [
    "df.dtypes"
   ]
  },
  {
   "cell_type": "code",
   "execution_count": null,
   "id": "b917941f",
   "metadata": {},
   "outputs": [],
   "source": [
    "df['n_guns'] = df['n_guns_involved'].apply(lambda x : \"10+\" if x>=10 else str(x))\n",
    "# df['n_guns'].value_counts()\n",
    "tempdf = df['n_guns'].value_counts().reset_index()\n",
    "tempdf = tempdf[tempdf['index'] != 'nan']\n",
    "\n",
    "\n",
    "labels = list(tempdf['index'])\n",
    "values = list(tempdf['n_guns'])\n",
    "\n",
    "trace1 = go.Pie(labels=labels, values=values, marker=dict(colors = ['#FEBFB3', '#E1396C', '#96D38C', '#D0F9B1', '#c0d1ed', '#efaceb', '#f5f794', '#94f794', '#fcc771']))\n",
    "layout = dict(height=500, title='Number of Guns Used', legend=dict(orientation=\"v\"));\n",
    "fig = go.Figure(data=[trace1], layout=layout)\n",
    "iplot(fig)"
   ]
  },
  {
   "cell_type": "code",
   "execution_count": null,
   "id": "ce0cc70e",
   "metadata": {},
   "outputs": [],
   "source": [
    "def separate(df):\n",
    "    df=df.split(\"||\")\n",
    "    df=[(x.split(\"::\")) for x in df]\n",
    "    y = []\n",
    "    for  i in range (0, len(df)):\n",
    "        y.append(df[i][-1])\n",
    "    return(y) "
   ]
  },
  {
   "cell_type": "code",
   "execution_count": null,
   "id": "7eccae0d",
   "metadata": {},
   "outputs": [],
   "source": [
    "df['participant_gender'] = df['participant_gender'].fillna(\"0::Zero\")\n",
    "df['gender'] = df['participant_gender'].apply(lambda x: separate(x))\n",
    "df['Males'] = df['gender'].apply(lambda x: x.count('Male'))\n",
    "df['Females'] = df['gender'].apply(lambda x: x.count('Female'))"
   ]
  },
  {
   "cell_type": "code",
   "execution_count": null,
   "id": "3b2400b3",
   "metadata": {},
   "outputs": [],
   "source": [
    "dx=df[['state', 'Males', 'Females']].groupby('state').sum()"
   ]
  },
  {
   "cell_type": "code",
   "execution_count": null,
   "id": "db174d2c",
   "metadata": {},
   "outputs": [],
   "source": [
    "def separate_age(df):\n",
    "    df=df.split(\"||\")\n",
    "    df=[(x.split(\"::\")) for x in df]\n",
    "    y = []\n",
    "    for  i in range (0, len(df)):\n",
    "        y.append(df[i][-1])\n",
    "    return(y) "
   ]
  },
  {
   "cell_type": "code",
   "execution_count": null,
   "id": "e4672c51",
   "metadata": {},
   "outputs": [],
   "source": [
    "df_18=df.ix[df['year']==2018]"
   ]
  },
  {
   "cell_type": "code",
   "execution_count": null,
   "id": "0348b660",
   "metadata": {},
   "outputs": [],
   "source": [
    "df_ts=df_18[['n_killed','date']]"
   ]
  },
  {
   "cell_type": "code",
   "execution_count": null,
   "id": "24c9bdda",
   "metadata": {},
   "outputs": [],
   "source": [
    "df_ts.index=df_18['date']"
   ]
  },
  {
   "cell_type": "code",
   "execution_count": null,
   "id": "a2c321b9",
   "metadata": {},
   "outputs": [],
   "source": [
    "df_ts['n_killed'].plot(figsize=(15,6), color=\"green\")\n",
    "plt.xlabel('Year')\n",
    "plt.ylabel('No. of Deaths')\n",
    "plt.title(\"Death due to Gun Violence Time-Series Visualization\")\n",
    "plt.show()"
   ]
  },
  {
   "cell_type": "code",
   "execution_count": null,
   "id": "97aacfa7",
   "metadata": {},
   "outputs": [],
   "source": [
    "from fbprophet import Prophet\n",
    "sns.set(font_scale=1) \n",
    "df_date_index = df_18[['date','n_killed']]\n",
    "df_date_index = df_date_index.set_index('date')\n",
    "df_prophet = df_date_index.copy()\n",
    "df_prophet.reset_index(drop=False,inplace=True)\n",
    "df_prophet.columns = ['ds','y']\n",
    "\n",
    "m = Prophet()\n",
    "m.fit(df_prophet)\n",
    "future = m.make_future_dataframe(periods=270,freq='D')\n",
    "forecast = m.predict(future)\n",
    "fig = m.plot(forecast)"
   ]
  }
 ],
 "metadata": {
  "kernelspec": {
   "display_name": "Python 3 (ipykernel)",
   "language": "python",
   "name": "python3"
  },
  "language_info": {
   "codemirror_mode": {
    "name": "ipython",
    "version": 3
   },
   "file_extension": ".py",
   "mimetype": "text/x-python",
   "name": "python",
   "nbconvert_exporter": "python",
   "pygments_lexer": "ipython3",
   "version": "3.9.16"
  }
 },
 "nbformat": 4,
 "nbformat_minor": 5
}
